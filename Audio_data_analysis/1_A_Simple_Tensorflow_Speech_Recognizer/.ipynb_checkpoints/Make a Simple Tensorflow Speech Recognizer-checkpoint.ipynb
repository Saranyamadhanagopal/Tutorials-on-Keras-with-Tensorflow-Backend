{
 "cells": [
  {
   "cell_type": "code",
   "execution_count": 27,
   "metadata": {},
   "outputs": [
    {
     "ename": "ModuleNotFoundError",
     "evalue": "No module named 'speech_data'",
     "output_type": "error",
     "traceback": [
      "\u001b[1;31m---------------------------------------------------------------------------\u001b[0m",
      "\u001b[1;31mModuleNotFoundError\u001b[0m                       Traceback (most recent call last)",
      "\u001b[1;32m<ipython-input-27-a12bdd56606b>\u001b[0m in \u001b[0;36m<module>\u001b[1;34m()\u001b[0m\n\u001b[0;32m      1\u001b[0m \u001b[1;32mimport\u001b[0m \u001b[0mtflearn\u001b[0m \u001b[1;31m# High level library build on top of tensorflow. Easier to read and fast to prototype\u001b[0m\u001b[1;33m\u001b[0m\u001b[0m\n\u001b[1;32m----> 2\u001b[1;33m \u001b[1;32mimport\u001b[0m \u001b[0mspeech_data\u001b[0m \u001b[1;31m# Fetch data from and formats it\u001b[0m\u001b[1;33m\u001b[0m\u001b[0m\n\u001b[0m\u001b[0;32m      3\u001b[0m \u001b[1;33m\u001b[0m\u001b[0m\n\u001b[0;32m      4\u001b[0m \u001b[1;31m# Setting Hyper parameters\u001b[0m\u001b[1;33m\u001b[0m\u001b[1;33m\u001b[0m\u001b[0m\n\u001b[0;32m      5\u001b[0m \u001b[0mlearning_rate\u001b[0m \u001b[1;33m=\u001b[0m \u001b[1;36m0.001\u001b[0m\u001b[1;33m\u001b[0m\u001b[0m\n",
      "\u001b[1;31mModuleNotFoundError\u001b[0m: No module named 'speech_data'"
     ]
    }
   ],
   "source": [
    "import tflearn # High level library build on top of tensorflow. Easier to read and fast to prototype\n",
    "import speech_data # Fetch data from and formats it\n",
    "\n",
    "# # Setting Hyper parameters\n",
    "# learning_rate = 0.001 \n",
    "# # Greater the learning rate faster our network trains\n",
    "# # Lower the learning rate more accurate our network predicts\n",
    "# training_iters = 30000\n",
    "# batch = word_batch = speech_data.mfcc_batch_generator(64)\n",
    "# # the number of training examples in one forward/backward pass. \n",
    "# # The higher the batch size, the more memory space you'll need.\n",
    "\n",
    "# X,Y = next(batch)\n",
    "# trainX,trainY =X,Y\n",
    "# testX,testY =X,Y\n",
    "\n",
    "# # Network\n",
    "# net = tflearn.input_data([None,20,80])"
   ]
  },
  {
   "cell_type": "code",
   "execution_count": null,
   "metadata": {},
   "outputs": [],
   "source": []
  }
 ],
 "metadata": {
  "kernelspec": {
   "display_name": "Python 3",
   "language": "python",
   "name": "python3"
  },
  "language_info": {
   "codemirror_mode": {
    "name": "ipython",
    "version": 3
   },
   "file_extension": ".py",
   "mimetype": "text/x-python",
   "name": "python",
   "nbconvert_exporter": "python",
   "pygments_lexer": "ipython3",
   "version": "3.6.3"
  }
 },
 "nbformat": 4,
 "nbformat_minor": 2
}
